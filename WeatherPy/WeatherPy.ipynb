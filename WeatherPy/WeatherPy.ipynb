{
 "cells": [
  {
   "cell_type": "markdown",
   "metadata": {},
   "source": [
    "# WeatherPy\n",
    "----\n",
    "\n",
    "#### Note\n",
    "* Instructions have been included for each segment. You do not have to follow them exactly, but they are included to help you think through the steps."
   ]
  },
  {
   "cell_type": "code",
   "execution_count": 16,
   "metadata": {
    "scrolled": true
   },
   "outputs": [],
   "source": [
    "# Dependencies and Setup\n",
    "import matplotlib.pyplot as plt\n",
    "import pandas as pd\n",
    "import numpy as np\n",
    "import requests\n",
    "import time\n",
    "from scipy.stats import linregress\n",
    "import json\n",
    "\n",
    "# Import API key\n",
    "from api_keys import weather_api_key\n",
    "\n",
    "# Incorporated citipy to determine city based on latitude and longitude\n",
    "from citipy import citipy\n",
    "\n",
    "# Output File (CSV)\n",
    "output_data_file = \"output_data/cities.csv\"\n",
    "\n",
    "# Range of latitudes and longitudes\n",
    "lat_range = (-90, 90)\n",
    "lng_range = (-180, 180)"
   ]
  },
  {
   "cell_type": "markdown",
   "metadata": {},
   "source": [
    "## Generate Cities List"
   ]
  },
  {
   "cell_type": "code",
   "execution_count": 17,
   "metadata": {},
   "outputs": [
    {
     "data": {
      "text/plain": [
       "573"
      ]
     },
     "execution_count": 17,
     "metadata": {},
     "output_type": "execute_result"
    }
   ],
   "source": [
    "# List for holding lat_lngs and cities\n",
    "lat_lngs = []\n",
    "cities = []\n",
    "\n",
    "# Create a set of random lat and lng combinations\n",
    "lats = np.random.uniform(lat_range[0], lat_range[1], size=1500)\n",
    "lngs = np.random.uniform(lng_range[0], lng_range[1], size=1500)\n",
    "lat_lngs = zip(lats, lngs)\n",
    "\n",
    "# Identify nearest city for each lat, lng combination\n",
    "for lat_lng in lat_lngs:\n",
    "    city = citipy.nearest_city(lat_lng[0], lat_lng[1]).city_name\n",
    "    \n",
    "    # If the city is unique, then add it to a our cities list\n",
    "    if city not in cities:\n",
    "        cities.append(city)\n",
    "\n",
    "# Print the city count to confirm sufficient count\n",
    "len(cities)"
   ]
  },
  {
   "cell_type": "markdown",
   "metadata": {},
   "source": [
    "### Perform API Calls\n",
    "* Perform a weather check on each city using a series of successive API calls.\n",
    "* Include a print log of each city as it'sbeing processed (with the city number and city name).\n"
   ]
  },
  {
   "cell_type": "code",
   "execution_count": 18,
   "metadata": {},
   "outputs": [
    {
     "name": "stdout",
     "output_type": "stream",
     "text": [
      "we have found hithadhoo\n",
      "we have found exaplatanos\n",
      "we have found busselton\n",
      "Oopsie\n",
      "we have found fortuna\n",
      "we have found saint george\n",
      "we have found bluff\n",
      "we have found cantaura\n",
      "we have found surt\n",
      "we have found nkowakowa\n",
      "we have found methoni\n",
      "Oopsie\n",
      "we have found cidreira\n",
      "we have found richards bay\n",
      "we have found hilo\n",
      "we have found torrijos\n",
      "we have found rundu\n",
      "we have found victoria\n",
      "we have found avarua\n",
      "we have found rikitea\n",
      "we have found tuktoyaktuk\n",
      "we have found punta arenas\n",
      "Oopsie\n",
      "we have found brechin\n",
      "Oopsie\n",
      "we have found price\n",
      "we have found groa\n",
      "we have found bilibino\n",
      "we have found ushuaia\n",
      "we have found naze\n",
      "we have found hobart\n",
      "we have found kapaa\n",
      "Oopsie\n",
      "we have found faanui\n",
      "we have found butaritari\n",
      "we have found naryan-mar\n",
      "we have found nizwa\n",
      "we have found qaanaaq\n",
      "we have found grand gaube\n",
      "Oopsie\n",
      "we have found esperance\n",
      "we have found nikolskoye\n",
      "we have found port alfred\n",
      "we have found mataura\n",
      "we have found mayskiy\n",
      "we have found veraval\n",
      "we have found hobyo\n",
      "we have found barrow\n",
      "we have found albany\n",
      "we have found vaini\n",
      "we have found hamilton\n",
      "we have found alice springs\n",
      "we have found akyab\n",
      "Oopsie\n",
      "we have found hermanus\n",
      "we have found marawi\n",
      "we have found marquette\n",
      "we have found belaya gora\n",
      "we have found westport\n",
      "Oopsie\n",
      "we have found ramnagar\n",
      "we have found la ronge\n",
      "we have found arraial do cabo\n",
      "we have found ridgecrest\n",
      "we have found iqaluit\n",
      "we have found butwal\n",
      "we have found yeniseysk\n",
      "we have found mount gambier\n",
      "we have found bredasdorp\n",
      "we have found airai\n",
      "we have found provideniya\n",
      "we have found liverpool\n",
      "we have found lorengau\n",
      "we have found emerald\n",
      "we have found atuona\n",
      "we have found maun\n",
      "we have found kavaratti\n",
      "we have found vuktyl\n",
      "we have found evensk\n",
      "we have found saskylakh\n",
      "we have found mitsamiouli\n",
      "we have found jamestown\n",
      "we have found severo-kurilsk\n",
      "Oopsie\n",
      "we have found nagapattinam\n",
      "we have found skibotn\n",
      "we have found dikson\n",
      "we have found kuminskiy\n",
      "we have found yellowknife\n",
      "we have found cascais\n",
      "we have found fukue\n",
      "we have found cabo san lucas\n",
      "we have found east london\n",
      "Oopsie\n",
      "we have found college\n",
      "we have found eureka\n",
      "we have found chokurdakh\n",
      "we have found mogadishu\n",
      "we have found teguldet\n",
      "we have found ancud\n",
      "we have found honningsvag\n",
      "we have found carutapera\n",
      "we have found georgetown\n",
      "we have found thompson\n",
      "we have found okha\n",
      "we have found yanaul\n",
      "we have found saint-philippe\n",
      "we have found praia da vitoria\n",
      "we have found port elizabeth\n",
      "we have found upernavik\n",
      "we have found hasaki\n",
      "we have found kruisfontein\n",
      "we have found kodiak\n",
      "we have found safaga\n",
      "we have found carnarvon\n",
      "we have found narsaq\n",
      "Oopsie\n",
      "we have found tiznit\n",
      "we have found tokur\n",
      "we have found villaviciosa\n",
      "we have found bengkulu\n",
      "we have found lagoa\n",
      "we have found curup\n",
      "we have found pisco\n",
      "we have found roald\n",
      "we have found mwinilunga\n",
      "we have found cape town\n",
      "we have found manturovo\n",
      "we have found port blair\n",
      "Oopsie\n",
      "we have found vila franca do campo\n",
      "we have found port lincoln\n",
      "we have found tiksi\n",
      "we have found domoni\n",
      "we have found new norfolk\n",
      "we have found chuy\n",
      "Oopsie\n",
      "we have found mount isa\n",
      "we have found nongan\n",
      "we have found boulder\n",
      "we have found tasiilaq\n",
      "we have found sao filipe\n",
      "we have found tongchuan\n",
      "Oopsie\n",
      "we have found klaksvik\n",
      "we have found olinda\n",
      "we have found horadiz\n",
      "we have found los llanos de aridane\n",
      "we have found sao joao da barra\n",
      "we have found ixtapa\n",
      "we have found ruteng\n",
      "we have found merauke\n",
      "we have found broome\n",
      "we have found mar del plata\n",
      "we have found clyde river\n",
      "we have found castro\n",
      "we have found nadym\n",
      "we have found quatre cocos\n",
      "we have found constitucion\n",
      "we have found rocha\n",
      "we have found okhotsk\n",
      "we have found thiers\n",
      "we have found cherskiy\n",
      "we have found bethel\n",
      "we have found xining\n",
      "we have found russellville\n",
      "we have found half moon bay\n",
      "we have found jelenia gora\n",
      "we have found batemans bay\n",
      "we have found matay\n",
      "we have found aginskoye\n",
      "we have found lokoja\n",
      "we have found kuressaare\n",
      "we have found sirjan\n",
      "we have found ponta delgada\n",
      "we have found bijie\n",
      "Oopsie\n",
      "we have found geraldton\n",
      "we have found dingle\n",
      "we have found coquimbo\n",
      "we have found kyzyl-suu\n",
      "we have found mayo\n",
      "we have found davila\n",
      "we have found konevo\n",
      "we have found khatanga\n",
      "we have found maceio\n",
      "we have found bolivar\n",
      "we have found yulara\n",
      "Oopsie\n",
      "we have found great yarmouth\n",
      "we have found banda aceh\n",
      "we have found ampanihy\n",
      "we have found pevek\n",
      "we have found chapais\n",
      "we have found kampong chhnang\n",
      "we have found ontario\n",
      "we have found beira\n",
      "we have found talnakh\n",
      "Oopsie\n",
      "we have found vostok\n",
      "we have found dasoguz\n",
      "we have found trairi\n",
      "we have found nanortalik\n",
      "we have found souillac\n",
      "Oopsie\n",
      "Oopsie\n",
      "we have found taldan\n",
      "we have found verkhnyaya inta\n",
      "we have found puerto ayora\n",
      "we have found torbay\n",
      "we have found shingu\n",
      "Oopsie\n",
      "we have found gornyy\n",
      "Oopsie\n",
      "we have found petropavlovsk-kamchatskiy\n",
      "we have found yangambi\n",
      "we have found balabac\n",
      "we have found atar\n",
      "we have found longyearbyen\n",
      "we have found ostrovnoy\n",
      "we have found bambous virieux\n",
      "we have found urumqi\n",
      "we have found gizo\n",
      "we have found muros\n",
      "Oopsie\n",
      "we have found bafq\n",
      "we have found forquilhinha\n",
      "Oopsie\n",
      "we have found port augusta\n",
      "we have found ponta do sol\n",
      "we have found ahipara\n",
      "Oopsie\n",
      "we have found saint-pierre\n",
      "we have found baykit\n",
      "we have found minab\n",
      "we have found portland\n",
      "we have found makakilo city\n",
      "we have found berdigestyakh\n",
      "we have found praia\n",
      "we have found omsukchan\n",
      "we have found padang\n",
      "we have found dawei\n",
      "we have found olafsvik\n",
      "we have found san patricio\n",
      "we have found rosiori\n",
      "we have found bentong\n",
      "we have found turukhansk\n",
      "we have found vermillion\n",
      "we have found ribeira grande\n",
      "we have found mtwara\n",
      "we have found hare bay\n",
      "we have found te anau\n",
      "we have found wahiawa\n",
      "we have found sherbakul\n",
      "we have found neiafu\n",
      "we have found port moresby\n",
      "Oopsie\n",
      "we have found kaitangata\n",
      "we have found bonnyville\n",
      "we have found mabaruma\n",
      "we have found sangar\n",
      "we have found vao\n",
      "we have found mackay\n",
      "we have found deputatskiy\n",
      "we have found mahibadhoo\n",
      "we have found nelson bay\n",
      "we have found kavieng\n",
      "we have found lebyazhye\n",
      "we have found chaykovskiy\n",
      "we have found kenai\n",
      "we have found mhlambanyatsi\n",
      "we have found husavik\n",
      "we have found stillwater\n",
      "Oopsie\n",
      "we have found abalak\n",
      "we have found manggar\n",
      "we have found yar-sale\n",
      "we have found qeshm\n",
      "we have found cassia\n",
      "we have found macusani\n",
      "we have found hovd\n",
      "we have found portales\n",
      "we have found xiaoweizhai\n",
      "we have found tuatapere\n",
      "we have found mehamn\n",
      "we have found guerrero negro\n",
      "we have found ocampo\n",
      "we have found virginia beach\n",
      "we have found ugoofaaru\n",
      "we have found luderitz\n",
      "we have found kibakwe\n",
      "we have found ketchikan\n",
      "we have found sarangani\n",
      "we have found prachuap khiri khan\n",
      "Oopsie\n",
      "we have found kang\n",
      "we have found mahebourg\n",
      "we have found lerwick\n",
      "we have found saint-augustin\n",
      "Oopsie\n",
      "we have found sola\n",
      "we have found ulladulla\n",
      "we have found torshavn\n",
      "we have found pital\n",
      "we have found tabou\n",
      "we have found pochutla\n",
      "we have found muisne\n",
      "we have found limenaria\n",
      "we have found touros\n",
      "we have found boaco\n",
      "we have found san andres\n",
      "Oopsie\n",
      "we have found pundaguitan\n",
      "we have found palora\n",
      "we have found vestmannaeyjar\n",
      "we have found krasnoselkup\n",
      "we have found pangai\n",
      "we have found dauphin\n",
      "we have found acapulco\n",
      "we have found akureyri\n",
      "we have found klyuchi\n",
      "we have found san cristobal\n",
      "we have found singleton\n",
      "we have found ormara\n",
      "we have found rimouski\n",
      "we have found blythe\n",
      "Oopsie\n",
      "Oopsie\n",
      "we have found conceicao do araguaia\n",
      "we have found san rafael\n",
      "we have found quballat\n",
      "we have found paamiut\n",
      "Oopsie\n",
      "we have found fukagawa\n",
      "we have found zhigansk\n",
      "we have found hasilpur\n",
      "we have found adrar\n",
      "Oopsie\n",
      "we have found mumford\n",
      "we have found saldanha\n",
      "we have found vanavara\n",
      "we have found lebu\n",
      "we have found porto walter\n",
      "we have found muravlenko\n",
      "we have found kotma\n",
      "we have found margate\n",
      "we have found buala\n",
      "Oopsie\n",
      "we have found morondava\n",
      "we have found barentu\n",
      "we have found les cayes\n",
      "we have found majene\n",
      "we have found lata\n",
      "we have found havoysund\n",
      "we have found mackenzie\n",
      "Oopsie\n",
      "we have found bar harbor\n",
      "we have found vilyuysk\n",
      "we have found wageningen\n",
      "we have found katsuura\n",
      "Oopsie\n",
      "we have found dunedin\n",
      "we have found riyadh\n",
      "Oopsie\n",
      "we have found mizdah\n",
      "we have found am timan\n",
      "we have found bilma\n",
      "we have found chicama\n",
      "we have found auki\n",
      "we have found iskateley\n",
      "we have found namibe\n",
      "we have found caravelas\n",
      "we have found berlevag\n",
      "we have found broken hill\n",
      "we have found port hedland\n",
      "we have found paciran\n",
      "we have found tessalit\n",
      "Oopsie\n",
      "we have found camacha\n",
      "we have found ginir\n",
      "we have found sterling\n"
     ]
    },
    {
     "name": "stdout",
     "output_type": "stream",
     "text": [
      "we have found yumen\n",
      "we have found chapleau\n",
      "we have found ulagan\n",
      "we have found barroquinha\n",
      "we have found oranjestad\n",
      "we have found komsomolskiy\n",
      "we have found nenjiang\n",
      "we have found anadyr\n",
      "we have found khakhea\n",
      "we have found khuzhir\n",
      "we have found gavle\n",
      "we have found athabasca\n",
      "we have found altamira\n",
      "Oopsie\n",
      "we have found dakar\n",
      "Oopsie\n",
      "we have found rawson\n",
      "we have found namtsy\n",
      "we have found ongandjera\n",
      "we have found flin flon\n",
      "we have found tondi\n",
      "we have found yuzhou\n",
      "we have found norman wells\n",
      "we have found cayenne\n",
      "we have found grindavik\n",
      "we have found qostanay\n",
      "we have found kirovsk\n",
      "we have found alofi\n",
      "we have found san policarpo\n",
      "we have found christchurch\n",
      "we have found bairiki\n",
      "Oopsie\n",
      "we have found sulangan\n",
      "we have found kijang\n",
      "we have found aklavik\n",
      "we have found fairbanks\n",
      "we have found naifaru\n",
      "we have found ondjiva\n",
      "we have found mouila\n",
      "Oopsie\n",
      "we have found haapiti\n",
      "we have found kisangani\n",
      "we have found guozhen\n",
      "we have found mayaky\n",
      "we have found san pedro masahuat\n",
      "we have found brae\n",
      "we have found danielskuil\n",
      "we have found tupik\n",
      "we have found alghero\n",
      "we have found coihaique\n",
      "we have found kichera\n",
      "we have found bahia honda\n",
      "we have found oktyabrskoye\n",
      "we have found laishevo\n",
      "we have found shangzhi\n",
      "we have found payo\n",
      "we have found yerbogachen\n",
      "Oopsie\n",
      "we have found paka\n",
      "we have found old saybrook\n",
      "we have found adre\n",
      "we have found kendari\n",
      "we have found inuvik\n",
      "we have found alyangula\n",
      "we have found redlands\n",
      "we have found coahuayana\n",
      "we have found whitehorse\n",
      "we have found belmonte\n",
      "we have found san ramon\n",
      "we have found nha trang\n",
      "we have found bambanglipuro\n",
      "we have found codrington\n",
      "we have found fort nelson\n",
      "we have found laguna\n",
      "we have found takoradi\n",
      "Oopsie\n",
      "we have found oranjemund\n",
      "we have found vardo\n",
      "we have found cabedelo\n",
      "we have found nantucket\n",
      "we have found parintins\n",
      "we have found san quintin\n",
      "we have found saint anthony\n",
      "we have found kahului\n",
      "we have found tigil\n",
      "we have found tashla\n",
      "we have found mildura\n",
      "we have found vasylivka\n",
      "we have found togul\n",
      "we have found mahajanga\n",
      "we have found gat\n",
      "we have found bathsheba\n",
      "we have found spearfish\n",
      "we have found porbandar\n",
      "we have found adeje\n",
      "we have found itarema\n",
      "we have found haines junction\n",
      "we have found port macquarie\n",
      "we have found buchanan\n",
      "we have found vila velha\n",
      "we have found banjar\n",
      "we have found kintampo\n",
      "we have found dalbandin\n",
      "we have found port hardy\n",
      "we have found ilo\n",
      "we have found ushtobe\n",
      "we have found santa maria\n",
      "we have found kungurtug\n",
      "we have found terrace bay\n",
      "Oopsie\n",
      "we have found rio grande\n",
      "we have found ilhabela\n",
      "we have found xam nua\n",
      "we have found sasd\n",
      "we have found sur\n",
      "we have found ko samui\n",
      "we have found sinnamary\n",
      "we have found mfou\n",
      "we have found careiro da varzea\n",
      "we have found jacksonville\n",
      "we have found katobu\n",
      "we have found kharp\n",
      "we have found lugovoy\n",
      "we have found filadelfia\n",
      "we have found nemuro\n",
      "we have found mbandaka\n",
      "we have found ciudad bolivar\n",
      "we have found lompoc\n",
      "we have found camacupa\n",
      "we have found alekseyevsk\n",
      "Oopsie\n",
      "Oopsie\n",
      "we have found saurimo\n",
      "we have found pultusk\n",
      "we have found nouadhibou\n",
      "we have found ucluelet\n",
      "we have found tuburan\n",
      "we have found bogorodskoye\n",
      "Oopsie\n",
      "we have found kununurra\n",
      "we have found batsfjord\n",
      "we have found dongsheng\n",
      "we have found novo aripuana\n",
      "we have found wanning\n",
      "we have found kaeo\n",
      "we have found eirunepe\n",
      "we have found samarinda\n",
      "we have found samana\n",
      "we have found ust-nera\n",
      "we have found kpandu\n",
      "we have found trincomalee\n",
      "we have found george town\n",
      "Oopsie\n",
      "we have found bud\n",
      "we have found mzimba\n",
      "Oopsie\n",
      "we have found nianzishan\n",
      "we have found fuxin\n",
      "we have found suratgarh\n",
      "we have found grong\n",
      "we have found joigny\n",
      "Oopsie\n",
      "we have found juba\n",
      "we have found seoul\n",
      "Oopsie\n",
      "we have found sal rei\n",
      "we have found mahon\n",
      "we have found mineros\n",
      "we have found kashi\n",
      "we have found nabire\n",
      "we have found shihezi\n",
      "we have found jizan\n",
      "we have found araceli\n",
      "we have found antalaha\n",
      "we have found hay river\n",
      "we have found el retorno\n",
      "we have found senno\n",
      "we have found mercedes\n",
      "we have found tilichiki\n",
      "we have found makat\n",
      "we have found marathon\n",
      "we have found nalut\n",
      "we have found pemba\n",
      "we have found la peca\n",
      "we have found peleduy\n",
      "we have found tazovskiy\n",
      "we have found nushki\n",
      "we have found vengurla\n",
      "we have found cajamarca\n",
      "we have found sitka\n",
      "we have found gulf gate estates\n",
      "we have found leshukonskoye\n"
     ]
    }
   ],
   "source": [
    "# Save config information.\n",
    "url = \"http://api.openweathermap.org/data/2.5/weather?\"\n",
    "units = \"metric\"\n",
    "# Build partial query URL\n",
    "query_url = f\"{url}appid={weather_api_key}&units={units}&q=\"\n",
    "# set up lists to hold reponse info\n",
    "temp = []\n",
    "lat = []\n",
    "lng = []\n",
    "max_temp = []\n",
    "humidity = []\n",
    "cloudiness = []\n",
    "wind_speed = []\n",
    "country = []\n",
    "date = []\n",
    "cityies = []\n",
    "# Loop through the list of cities and perform a request for data on each\n",
    "for city in cities:\n",
    "    response = requests.get(query_url + city).json()\n",
    "    try:\n",
    "        temp.append(response['main']['temp'])\n",
    "        lat.append(response['coord']['lat'])\n",
    "        lng.append(response['coord']['lon'])\n",
    "        max_temp.append(response['main']['temp_max'])\n",
    "        humidity.append(response['main']['humidity'])\n",
    "        cloudiness.append(response['clouds']['all'])\n",
    "        country.append(response['sys']['country'])\n",
    "        date.append(response['dt'])\n",
    "        wind_speed.append(response['wind']['speed'])\n",
    "        cityies.append(city)\n",
    "        print(f\"we have found {city}\")\n",
    "    except:\n",
    "        print(\"Oopsie\")"
   ]
  },
  {
   "cell_type": "markdown",
   "metadata": {},
   "source": [
    "### Convert Raw Data to DataFrame\n",
    "* Export the city data into a .csv.\n",
    "* Display the DataFrame"
   ]
  },
  {
   "cell_type": "code",
   "execution_count": 19,
   "metadata": {},
   "outputs": [],
   "source": [
    "weather_df = pd.DataFrame({\"City\":cityies, \"Lat\":lat, \"Lng\":lng, \"Max Temp\":max_temp, \"Humidity\":humidity,\n",
    "                          \"Cloudiness\":cloudiness, \"Wind Speed\":wind_speed, \"Country\":country, \"Date\":date})\n",
    "weather_df.to_csv('Weather.csv')"
   ]
  },
  {
   "cell_type": "code",
   "execution_count": 20,
   "metadata": {},
   "outputs": [
    {
     "data": {
      "text/plain": [
       "521"
      ]
     },
     "execution_count": 20,
     "metadata": {},
     "output_type": "execute_result"
    }
   ],
   "source": [
    "weather_df.head()\n",
    "len(weather_df)"
   ]
  },
  {
   "cell_type": "markdown",
   "metadata": {},
   "source": [
    "## Inspect the data and remove the cities where the humidity > 100%.\n",
    "----\n",
    "Skip this step if there are no cities that have humidity > 100%. "
   ]
  },
  {
   "cell_type": "code",
   "execution_count": 21,
   "metadata": {},
   "outputs": [
    {
     "data": {
      "text/html": [
       "<div>\n",
       "<style scoped>\n",
       "    .dataframe tbody tr th:only-of-type {\n",
       "        vertical-align: middle;\n",
       "    }\n",
       "\n",
       "    .dataframe tbody tr th {\n",
       "        vertical-align: top;\n",
       "    }\n",
       "\n",
       "    .dataframe thead th {\n",
       "        text-align: right;\n",
       "    }\n",
       "</style>\n",
       "<table border=\"1\" class=\"dataframe\">\n",
       "  <thead>\n",
       "    <tr style=\"text-align: right;\">\n",
       "      <th></th>\n",
       "      <th>City</th>\n",
       "      <th>Lat</th>\n",
       "      <th>Lng</th>\n",
       "      <th>Max Temp</th>\n",
       "      <th>Humidity</th>\n",
       "      <th>Cloudiness</th>\n",
       "      <th>Wind Speed</th>\n",
       "      <th>Country</th>\n",
       "      <th>Date</th>\n",
       "    </tr>\n",
       "  </thead>\n",
       "  <tbody>\n",
       "    <tr>\n",
       "      <th>0</th>\n",
       "      <td>hithadhoo</td>\n",
       "      <td>-0.60</td>\n",
       "      <td>73.08</td>\n",
       "      <td>29.06</td>\n",
       "      <td>73</td>\n",
       "      <td>62</td>\n",
       "      <td>3.48</td>\n",
       "      <td>MV</td>\n",
       "      <td>1593305202</td>\n",
       "    </tr>\n",
       "    <tr>\n",
       "      <th>1</th>\n",
       "      <td>exaplatanos</td>\n",
       "      <td>40.98</td>\n",
       "      <td>22.12</td>\n",
       "      <td>23.33</td>\n",
       "      <td>60</td>\n",
       "      <td>0</td>\n",
       "      <td>1.34</td>\n",
       "      <td>GR</td>\n",
       "      <td>1593305718</td>\n",
       "    </tr>\n",
       "    <tr>\n",
       "      <th>2</th>\n",
       "      <td>busselton</td>\n",
       "      <td>-33.65</td>\n",
       "      <td>115.33</td>\n",
       "      <td>15.56</td>\n",
       "      <td>74</td>\n",
       "      <td>97</td>\n",
       "      <td>7.62</td>\n",
       "      <td>AU</td>\n",
       "      <td>1593305036</td>\n",
       "    </tr>\n",
       "    <tr>\n",
       "      <th>3</th>\n",
       "      <td>fortuna</td>\n",
       "      <td>40.60</td>\n",
       "      <td>-124.16</td>\n",
       "      <td>16.67</td>\n",
       "      <td>72</td>\n",
       "      <td>75</td>\n",
       "      <td>6.70</td>\n",
       "      <td>US</td>\n",
       "      <td>1593305217</td>\n",
       "    </tr>\n",
       "    <tr>\n",
       "      <th>4</th>\n",
       "      <td>saint george</td>\n",
       "      <td>37.10</td>\n",
       "      <td>-113.58</td>\n",
       "      <td>39.00</td>\n",
       "      <td>8</td>\n",
       "      <td>1</td>\n",
       "      <td>4.60</td>\n",
       "      <td>US</td>\n",
       "      <td>1593305035</td>\n",
       "    </tr>\n",
       "  </tbody>\n",
       "</table>\n",
       "</div>"
      ],
      "text/plain": [
       "           City    Lat     Lng  Max Temp  Humidity  Cloudiness  Wind Speed  \\\n",
       "0     hithadhoo  -0.60   73.08     29.06        73          62        3.48   \n",
       "1   exaplatanos  40.98   22.12     23.33        60           0        1.34   \n",
       "2     busselton -33.65  115.33     15.56        74          97        7.62   \n",
       "3       fortuna  40.60 -124.16     16.67        72          75        6.70   \n",
       "4  saint george  37.10 -113.58     39.00         8           1        4.60   \n",
       "\n",
       "  Country        Date  \n",
       "0      MV  1593305202  \n",
       "1      GR  1593305718  \n",
       "2      AU  1593305036  \n",
       "3      US  1593305217  \n",
       "4      US  1593305035  "
      ]
     },
     "execution_count": 21,
     "metadata": {},
     "output_type": "execute_result"
    }
   ],
   "source": [
    "weather_df.drop(weather_df.loc[weather_df['Humidity']>100].index, inplace=False)\n",
    "weather_df.head()"
   ]
  },
  {
   "cell_type": "code",
   "execution_count": 22,
   "metadata": {},
   "outputs": [],
   "source": [
    "#  Get the indices of cities that have humidity over 100%.\n"
   ]
  },
  {
   "cell_type": "code",
   "execution_count": 23,
   "metadata": {},
   "outputs": [],
   "source": [
    "# Make a new DataFrame equal to the city data to drop all humidity outliers by index.\n",
    "# Passing \"inplace=False\" will make a copy of the city_data DataFrame, which we call \"clean_city_data\".\n"
   ]
  },
  {
   "cell_type": "code",
   "execution_count": 24,
   "metadata": {},
   "outputs": [],
   "source": [
    "# Extract relevant fields from the data frame\n",
    "\n",
    "\n",
    "# Export the City_Data into a csv\n"
   ]
  },
  {
   "cell_type": "markdown",
   "metadata": {},
   "source": [
    "## Plotting the Data\n",
    "* Use proper labeling of the plots using plot titles (including date of analysis) and axes labels.\n",
    "* Save the plotted figures as .pngs."
   ]
  },
  {
   "cell_type": "markdown",
   "metadata": {},
   "source": [
    "## Latitude vs. Temperature Plot"
   ]
  },
  {
   "cell_type": "code",
   "execution_count": 25,
   "metadata": {
    "scrolled": true
   },
   "outputs": [
    {
     "data": {
      "text/plain": [
       "Text(0.5, 1.0, 'Latitude vs. Maximum Temperature')"
      ]
     },
     "execution_count": 25,
     "metadata": {},
     "output_type": "execute_result"
    },
    {
     "data": {
      "image/png": "[encoded data removed]",
      "text/plain": [
       "<Figure size 432x288 with 1 Axes>"
      ]
     },
     "metadata": {
      "needs_background": "light"
     },
     "output_type": "display_data"
    }
   ],
   "source": [
    "plt.scatter(weather_df[\"Lat\"], weather_df[\"Max Temp\"])\n",
    "plt.xlabel(\"Latitude\")\n",
    "plt.ylabel(\"Maximum Temperature\")\n",
    "plt.title(\"Latitude vs. Maximum Temperature\")"
   ]
  },
  {
   "cell_type": "markdown",
   "metadata": {},
   "source": [
    "## Latitude vs. Humidity Plot"
   ]
  },
  {
   "cell_type": "code",
   "execution_count": 26,
   "metadata": {},
   "outputs": [
    {
     "data": {
      "text/plain": [
       "Text(0.5, 1.0, 'Latitude vs. Humidity')"
      ]
     },
     "execution_count": 26,
     "metadata": {},
     "output_type": "execute_result"
    },
    {
     "data": {
      "image/png": "[encoded data removed]",
      "text/plain": [
       "<Figure size 432x288 with 1 Axes>"
      ]
     },
     "metadata": {
      "needs_background": "light"
     },
     "output_type": "display_data"
    }
   ],
   "source": [
    "plt.scatter(weather_df[\"Lat\"], weather_df[\"Humidity\"])\n",
    "plt.xlabel(\"Latitude\")\n",
    "plt.ylabel(\"Humidity (%)\")\n",
    "plt.title(\"Latitude vs. Humidity\")"
   ]
  },
  {
   "cell_type": "markdown",
   "metadata": {},
   "source": [
    "## Latitude vs. Cloudiness Plot"
   ]
  },
  {
   "cell_type": "code",
   "execution_count": 27,
   "metadata": {},
   "outputs": [
    {
     "data": {
      "text/plain": [
       "Text(0.5, 1.0, 'Latitude vs. Cloudiness')"
      ]
     },
     "execution_count": 27,
     "metadata": {},
     "output_type": "execute_result"
    },
    {
     "data": {
      "image/png": "[encoded data removed]",
      "text/plain": [
       "<Figure size 432x288 with 1 Axes>"
      ]
     },
     "metadata": {
      "needs_background": "light"
     },
     "output_type": "display_data"
    }
   ],
   "source": [
    "plt.scatter(weather_df[\"Lat\"], weather_df[\"Cloudiness\"])\n",
    "plt.xlabel(\"Latitude\")\n",
    "plt.ylabel(\"Cloudiness (%)\")\n",
    "plt.title(\"Latitude vs. Cloudiness\")"
   ]
  },
  {
   "cell_type": "markdown",
   "metadata": {},
   "source": [
    "## Latitude vs. Wind Speed Plot"
   ]
  },
  {
   "cell_type": "code",
   "execution_count": 28,
   "metadata": {},
   "outputs": [
    {
     "data": {
      "text/plain": [
       "Text(0.5, 1.0, 'Latitude vs. Wind Speed')"
      ]
     },
     "execution_count": 28,
     "metadata": {},
     "output_type": "execute_result"
    },
    {
     "data": {
      "image/png": "[encoded data removed]",
      "text/plain": [
       "<Figure size 432x288 with 1 Axes>"
      ]
     },
     "metadata": {
      "needs_background": "light"
     },
     "output_type": "display_data"
    }
   ],
   "source": [
    "plt.scatter(weather_df[\"Lat\"], weather_df[\"Wind Speed\"])\n",
    "plt.xlabel(\"Latitude\")\n",
    "plt.ylabel(\"Wind Speed (mph)\")\n",
    "plt.title(\"Latitude vs. Wind Speed\")"
   ]
  },
  {
   "cell_type": "markdown",
   "metadata": {},
   "source": [
    "## Linear Regression"
   ]
  },
  {
   "cell_type": "code",
   "execution_count": 29,
   "metadata": {},
   "outputs": [],
   "source": [
    "# OPTIONAL: Create a function to create Linear Regression plots"
   ]
  },
  {
   "cell_type": "code",
   "execution_count": 30,
   "metadata": {},
   "outputs": [],
   "source": [
    "# Create Northern and Southern Hemisphere DataFrames"
   ]
  },
  {
   "cell_type": "markdown",
   "metadata": {},
   "source": [
    "####  Northern Hemisphere - Max Temp vs. Latitude Linear Regression"
   ]
  },
  {
   "cell_type": "code",
   "execution_count": null,
   "metadata": {},
   "outputs": [],
   "source": []
  },
  {
   "cell_type": "markdown",
   "metadata": {},
   "source": [
    "####  Southern Hemisphere - Max Temp vs. Latitude Linear Regression"
   ]
  },
  {
   "cell_type": "code",
   "execution_count": null,
   "metadata": {},
   "outputs": [],
   "source": []
  },
  {
   "cell_type": "markdown",
   "metadata": {},
   "source": [
    "####  Northern Hemisphere - Humidity (%) vs. Latitude Linear Regression"
   ]
  },
  {
   "cell_type": "code",
   "execution_count": null,
   "metadata": {},
   "outputs": [],
   "source": []
  },
  {
   "cell_type": "markdown",
   "metadata": {},
   "source": [
    "####  Southern Hemisphere - Humidity (%) vs. Latitude Linear Regression"
   ]
  },
  {
   "cell_type": "code",
   "execution_count": null,
   "metadata": {},
   "outputs": [],
   "source": []
  },
  {
   "cell_type": "markdown",
   "metadata": {},
   "source": [
    "####  Northern Hemisphere - Cloudiness (%) vs. Latitude Linear Regression"
   ]
  },
  {
   "cell_type": "code",
   "execution_count": null,
   "metadata": {},
   "outputs": [],
   "source": []
  },
  {
   "cell_type": "markdown",
   "metadata": {},
   "source": [
    "####  Southern Hemisphere - Cloudiness (%) vs. Latitude Linear Regression"
   ]
  },
  {
   "cell_type": "code",
   "execution_count": null,
   "metadata": {},
   "outputs": [],
   "source": []
  },
  {
   "cell_type": "markdown",
   "metadata": {},
   "source": [
    "####  Northern Hemisphere - Wind Speed (mph) vs. Latitude Linear Regression"
   ]
  },
  {
   "cell_type": "code",
   "execution_count": null,
   "metadata": {},
   "outputs": [],
   "source": []
  },
  {
   "cell_type": "markdown",
   "metadata": {},
   "source": [
    "####  Southern Hemisphere - Wind Speed (mph) vs. Latitude Linear Regression"
   ]
  },
  {
   "cell_type": "code",
   "execution_count": null,
   "metadata": {},
   "outputs": [],
   "source": []
  },
  {
   "cell_type": "code",
   "execution_count": null,
   "metadata": {},
   "outputs": [],
   "source": []
  }
 ],
 "metadata": {
  "anaconda-cloud": {},
  "kernel_info": {
   "name": "python3"
  },
  "kernelspec": {
   "display_name": "Python 3",
   "language": "python",
   "name": "python3"
  },
  "language_info": {
   "codemirror_mode": {
    "name": "ipython",
    "version": 3
   },
   "file_extension": ".py",
   "mimetype": "text/x-python",
   "name": "python",
   "nbconvert_exporter": "python",
   "pygments_lexer": "ipython3",
   "version": "3.7.7"
  },
  "latex_envs": {
   "LaTeX_envs_menu_present": true,
   "autoclose": false,
   "autocomplete": true,
   "bibliofile": "biblio.bib",
   "cite_by": "apalike",
   "current_citInitial": 1,
   "eqLabelWithNumbers": true,
   "eqNumInitial": 1,
   "hotkeys": {
    "equation": "Ctrl-E",
    "itemize": "Ctrl-I"
   },
   "labels_anchors": false,
   "latex_user_defs": false,
   "report_style_numbering": false,
   "user_envs_cfg": false
  },
  "nteract": {
   "version": "0.12.3"
  }
 },
 "nbformat": 4,
 "nbformat_minor": 2
}
